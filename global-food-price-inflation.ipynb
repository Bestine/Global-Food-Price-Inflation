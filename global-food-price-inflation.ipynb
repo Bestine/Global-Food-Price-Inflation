{
 "cells": [
  {
   "cell_type": "code",
   "execution_count": 1,
   "id": "297211af",
   "metadata": {
    "_cell_guid": "b1076dfc-b9ad-4769-8c92-a6c4dae69d19",
    "_uuid": "8f2839f25d086af736a60e9eeb907d3b93b6e0e5",
    "execution": {
     "iopub.execute_input": "2023-11-07T20:02:02.836513Z",
     "iopub.status.busy": "2023-11-07T20:02:02.835988Z",
     "iopub.status.idle": "2023-11-07T20:02:03.315001Z",
     "shell.execute_reply": "2023-11-07T20:02:03.313895Z"
    },
    "papermill": {
     "duration": 0.486865,
     "end_time": "2023-11-07T20:02:03.317568",
     "exception": false,
     "start_time": "2023-11-07T20:02:02.830703",
     "status": "completed"
    },
    "tags": []
   },
   "outputs": [
    {
     "name": "stdout",
     "output_type": "stream",
     "text": [
      "/kaggle/input/monthly-food-price-estimates/WLD_RTP_details_2023-10-02.csv\n",
      "/kaggle/input/monthly-food-price-estimates/ddi-documentation-english_microdata-4483 (1).pdf\n",
      "/kaggle/input/monthly-food-price-estimates/ddi-documentation-english_microdata-4509.pdf\n",
      "/kaggle/input/monthly-food-price-estimates/WLD_RTFP_country_2023-10-02.csv\n"
     ]
    }
   ],
   "source": [
    "# This Python 3 environment comes with many helpful analytics libraries installed\n",
    "# It is defined by the kaggle/python Docker image: https://github.com/kaggle/docker-python\n",
    "# For example, here's several helpful packages to load\n",
    "\n",
    "import numpy as np # linear algebra\n",
    "import pandas as pd # data processing, CSV file I/O (e.g. pd.read_csv)\n",
    "\n",
    "# Input data files are available in the read-only \"../input/\" directory\n",
    "# For example, running this (by clicking run or pressing Shift+Enter) will list all files under the input directory\n",
    "\n",
    "import os\n",
    "for dirname, _, filenames in os.walk('/kaggle/input'):\n",
    "    for filename in filenames:\n",
    "        print(os.path.join(dirname, filename))\n",
    "\n",
    "# You can write up to 20GB to the current directory (/kaggle/working/) that gets preserved as output when you create a version using \"Save & Run All\" \n",
    "# You can also write temporary files to /kaggle/temp/, but they won't be saved outside of the current session"
   ]
  },
  {
   "cell_type": "markdown",
   "id": "030ef186",
   "metadata": {
    "papermill": {
     "duration": 0.002731,
     "end_time": "2023-11-07T20:02:03.325552",
     "exception": false,
     "start_time": "2023-11-07T20:02:03.322821",
     "status": "completed"
    },
    "tags": []
   },
   "source": [
    "**Load other relevant libraries and datasets**"
   ]
  },
  {
   "cell_type": "code",
   "execution_count": 2,
   "id": "c8fe1529",
   "metadata": {
    "execution": {
     "iopub.execute_input": "2023-11-07T20:02:03.334244Z",
     "iopub.status.busy": "2023-11-07T20:02:03.333288Z",
     "iopub.status.idle": "2023-11-07T20:02:05.031328Z",
     "shell.execute_reply": "2023-11-07T20:02:05.030193Z"
    },
    "papermill": {
     "duration": 1.705736,
     "end_time": "2023-11-07T20:02:05.034270",
     "exception": false,
     "start_time": "2023-11-07T20:02:03.328534",
     "status": "completed"
    },
    "tags": []
   },
   "outputs": [],
   "source": [
    "from matplotlib import pyplot as plt\n",
    "import seaborn as sns \n",
    "import random \n",
    "import requests"
   ]
  },
  {
   "cell_type": "code",
   "execution_count": 3,
   "id": "ce92d719",
   "metadata": {
    "execution": {
     "iopub.execute_input": "2023-11-07T20:02:05.042960Z",
     "iopub.status.busy": "2023-11-07T20:02:05.041865Z",
     "iopub.status.idle": "2023-11-07T20:02:05.082019Z",
     "shell.execute_reply": "2023-11-07T20:02:05.080792Z"
    },
    "papermill": {
     "duration": 0.047518,
     "end_time": "2023-11-07T20:02:05.084909",
     "exception": false,
     "start_time": "2023-11-07T20:02:05.037391",
     "status": "completed"
    },
    "tags": []
   },
   "outputs": [],
   "source": [
    "# Load the required dataset\n",
    "GFP_details = pd.read_csv(\"/kaggle/input/monthly-food-price-estimates/WLD_RTP_details_2023-10-02.csv\")\n",
    "GFP_df = pd.read_csv(\"/kaggle/input/monthly-food-price-estimates/WLD_RTFP_country_2023-10-02.csv\")"
   ]
  },
  {
   "cell_type": "markdown",
   "id": "993b935f",
   "metadata": {
    "papermill": {
     "duration": 0.002698,
     "end_time": "2023-11-07T20:02:05.090965",
     "exception": false,
     "start_time": "2023-11-07T20:02:05.088267",
     "status": "completed"
    },
    "tags": []
   },
   "source": [
    "# Explanatory Data Analysis (EDA)"
   ]
  },
  {
   "cell_type": "code",
   "execution_count": null,
   "id": "3926e4f7",
   "metadata": {
    "papermill": {
     "duration": 0.002773,
     "end_time": "2023-11-07T20:02:05.096674",
     "exception": false,
     "start_time": "2023-11-07T20:02:05.093901",
     "status": "completed"
    },
    "tags": []
   },
   "outputs": [],
   "source": []
  }
 ],
 "metadata": {
  "kernelspec": {
   "display_name": "Python 3",
   "language": "python",
   "name": "python3"
  },
  "language_info": {
   "codemirror_mode": {
    "name": "ipython",
    "version": 3
   },
   "file_extension": ".py",
   "mimetype": "text/x-python",
   "name": "python",
   "nbconvert_exporter": "python",
   "pygments_lexer": "ipython3",
   "version": "3.10.12"
  },
  "papermill": {
   "default_parameters": {},
   "duration": 6.622932,
   "end_time": "2023-11-07T20:02:05.721341",
   "environment_variables": {},
   "exception": null,
   "input_path": "__notebook__.ipynb",
   "output_path": "__notebook__.ipynb",
   "parameters": {},
   "start_time": "2023-11-07T20:01:59.098409",
   "version": "2.4.0"
  }
 },
 "nbformat": 4,
 "nbformat_minor": 5
}
